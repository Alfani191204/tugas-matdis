{
  "nbformat": 4,
  "nbformat_minor": 0,
  "metadata": {
    "colab": {
      "provenance": []
    },
    "kernelspec": {
      "name": "python3",
      "display_name": "Python 3"
    },
    "language_info": {
      "name": "python"
    }
  },
  "cells": [
    {
      "cell_type": "code",
      "execution_count": 2,
      "metadata": {
        "id": "7peol-EKAk_I"
      },
      "outputs": [],
      "source": [
        "import math"
      ]
    },
    {
      "cell_type": "code",
      "source": [
        "def sisiKiri2(n):\n",
        "    return (2**(n+1) - 1)\n",
        "\n",
        "def sisiKanan2(n):\n",
        "    return 2**(n+1) - 1\n",
        "\n",
        "n = int(input(\"Masukkan nilai n: \"))\n",
        "\n",
        "print(f\"\\nn = {n}\")\n",
        "print(f\"(2) Kiri={sisiKiri2(n)}, Kanan={sisiKanan2(n)}, Valid={sisiKiri2(n)==sisiKanan2(n)}\")\n"
      ],
      "metadata": {
        "colab": {
          "base_uri": "https://localhost:8080/"
        },
        "id": "FqOqdB6IQFNv",
        "outputId": "ec3a7a1c-614c-41a3-fce5-17840063eda6"
      },
      "execution_count": 10,
      "outputs": [
        {
          "output_type": "stream",
          "name": "stdout",
          "text": [
            "Masukkan nilai n: -1\n",
            "\n",
            "n = -1\n",
            "(2) Kiri=0, Kanan=0, Valid=True\n"
          ]
        }
      ]
    },
    {
      "cell_type": "markdown",
      "source": [
        "Pernyataan di atas merupakan penerapan dari rumus 1+2+22+23+⋯+2n=2n+1−1. Valid=True artinya hasil jumlah manual (Kiri) sama persis dengan hasil rumus (Kanan). Karena rumus ini memang benar untuk semua 𝑛≥1, maka selalu True."
      ],
      "metadata": {
        "id": "7wglnnrgTKBD"
      }
    },
    {
      "cell_type": "code",
      "source": [
        "def sisiKiri4(n):\n",
        "    return math.factorial(n)\n",
        "\n",
        "def sisiKanan4(n):\n",
        "    return 2**(n-1)\n",
        "\n",
        "n = int(input(\"Masukkan nilai n: \"))\n",
        "print(f\"(4) Kiri={sisiKiri4(n)}, Kanan={sisiKanan4(n)}, Valid={sisiKiri4(n)>=sisiKanan4(n)}\")"
      ],
      "metadata": {
        "colab": {
          "base_uri": "https://localhost:8080/"
        },
        "id": "-AgpZzyaQFKO",
        "outputId": "d4f55815-720e-4a63-8609-40b9dca00e2a"
      },
      "execution_count": 15,
      "outputs": [
        {
          "output_type": "stream",
          "name": "stdout",
          "text": [
            "Masukkan nilai n: 4\n",
            "(4) Kiri=24, Kanan=8, Valid=True\n"
          ]
        }
      ]
    },
    {
      "cell_type": "markdown",
      "source": [
        "Pernyataan di atas merupakan penerapan dari rumus n!= 2^n−1. Artinya, hasil faktorial dari suatu bilangan bulat positif 𝑛 selalu lebih besar atau sama dengan 2^𝑛−1. Untuk nilai n kecil, seperti n = 1, n = 2, kedua ruas masih sama besar (1!=1=2^0 dan 2!=2=2^1). Namun mulai dari 𝑛=3, nilai faktorial sudah lebih besar dibandingkan pangkat dua, dan pertumbuhan faktorial semakin cepat seiring bertambahnya n. Oleh karena itu, ketidaksamaan ini selalu benar untuk semua 𝑛≥1.\n",
        "\n",
        "\n"
      ],
      "metadata": {
        "id": "uFyhhbr-V06v"
      }
    },
    {
      "cell_type": "code",
      "source": [],
      "metadata": {
        "id": "_axHqCBzQFHA"
      },
      "execution_count": null,
      "outputs": []
    },
    {
      "cell_type": "code",
      "source": [],
      "metadata": {
        "id": "R1RI-wZDQFCI"
      },
      "execution_count": null,
      "outputs": []
    }
  ]
}